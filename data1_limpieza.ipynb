{
 "cells": [
  {
   "cell_type": "markdown",
   "metadata": {},
   "source": [
    "# Proyecto: Un proceso de ingeniería de características\n",
    "\n",
    "Curso Ingeniería de Características\n",
    "\n",
    "<i class=\"fa-duotone fa-cactus\"></i>"
   ]
  },
  {
   "cell_type": "markdown",
   "metadata": {},
   "source": [
    "`ID` para el indicador de los municipios.<br>\n",
    "`FECHA` para las series de tiempo (formato YYYY-MM-DD)"
   ]
  },
  {
   "cell_type": "code",
   "execution_count": 20,
   "metadata": {},
   "outputs": [],
   "source": [
    "import pandas as pd\n",
    "import geopandas as gpd\n",
    "import warnings\n",
    "from cod_dict import * # Módulo para accesar a los diccionarios de códigos\n",
    "warnings.filterwarnings('ignore')"
   ]
  },
  {
   "cell_type": "markdown",
   "metadata": {},
   "source": [
    "### De archivo a dataframe"
   ]
  },
  {
   "cell_type": "code",
   "execution_count": 3,
   "metadata": {},
   "outputs": [],
   "source": [
    "# Datos georreferenciados\n",
    "raw_shapes_gdf=gpd.read_file('raw_data/geo_shp/municipal.shp')\n",
    "# Datos de población\n",
    "raw_pobl_df=pd.read_excel('raw_data/pob_son.xlsx')\n",
    "# Datos de unidades económicas \n",
    "raw_denue15_df=pd.read_csv('raw_data/denue/denue15.csv')\n",
    "raw_denue16_df=pd.read_csv('raw_data/denue/denue16.csv', low_memory=False)\n",
    "raw_denue17_df=pd.read_csv('raw_data/denue/denue17.csv', low_memory=False)\n",
    "raw_denue18_df=pd.read_csv('raw_data/denue/denue18.csv', low_memory=False)\n",
    "raw_denue19_df=pd.read_csv('raw_data/denue/denue19.csv', low_memory=False, encoding='latin-1')\n",
    "raw_denue20_df=pd.read_csv('raw_data/denue/denue20.csv', low_memory=False, encoding='latin-1')\n",
    "# Datos de incidencia delictiva\n",
    "raw_delitos15_df=pd.read_excel('raw_data/delitos/delitos15.xlsx')\n",
    "raw_delitos16_df=pd.read_excel('raw_data/delitos/delitos16.xlsx')\n",
    "raw_delitos17_df=pd.read_excel('raw_data/delitos/delitos17.xlsx')\n",
    "raw_delitos18_df=pd.read_excel('raw_data/delitos/delitos18.xlsx')\n",
    "raw_delitos19_df=pd.read_excel('raw_data/delitos/delitos19.xlsx')\n",
    "raw_delitos20_df=pd.read_excel('raw_data/delitos/delitos20.xlsx')"
   ]
  },
  {
   "cell_type": "markdown",
   "metadata": {},
   "source": [
    "## Datos georreferenciados"
   ]
  },
  {
   "cell_type": "code",
   "execution_count": 7,
   "metadata": {},
   "outputs": [],
   "source": [
    "shapes_gdf=raw_shapes_gdf.copy(deep=True)\n",
    "# Selección de columnas\n",
    "shapes_gdf=shapes_gdf[['CVEGEO', 'NOMBRE', 'geometry']]\n",
    "# Formato de nombre\n",
    "shapes_gdf.rename(columns={'CVEGEO':'ID'}, inplace=True)\n",
    "# Formato geoespacial\n",
    "shapes_gdf.to_crs(4326, inplace=True)"
   ]
  },
  {
   "cell_type": "markdown",
   "metadata": {},
   "source": [
    "## Datos de población"
   ]
  },
  {
   "cell_type": "code",
   "execution_count": 24,
   "metadata": {},
   "outputs": [],
   "source": [
    "pobl_df=raw_pobl_df.copy(deep=True)\n",
    "# Filtrado de resgistros\n",
    "pobl_df=pobl_df[pobl_df['indicador']=='Población total']\n",
    "pobl_df=pobl_df[pobl_df['cve_municipio']!=0] # La cve_municipio=0 es el total del estado, innecesario\n",
    "# Eliminar columnas vacías o NaN\n",
    "pobl_df.dropna(axis=1, how='all', inplace=True)\n",
    "# Selección de columnas\n",
    "pobl_df=pobl_df[['cve_municipio', '1995', '2000', '2005', '2010', '2020']]\n",
    "# Formato de nombre\n",
    "pobl_df.rename(columns={'cve_municipio':'ID'}, inplace=True)\n",
    "# Reemplazo de NaN\n",
    "pobl_df.fillna(value=0,inplace=True)\n",
    "# Formato de ID\n",
    "pobl_df['ID']=pobl_df['ID']+26000\n",
    "pobl_df['ID']=pobl_df['ID'].astype(str)\n",
    "# Variables numéricas a int64\n",
    "pobl_df.iloc[:,1:]=pobl_df.iloc[:,1:].astype('int64')"
   ]
  },
  {
   "cell_type": "markdown",
   "metadata": {},
   "source": [
    "## Datos de unidades económicas"
   ]
  },
  {
   "cell_type": "code",
   "execution_count": 9,
   "metadata": {},
   "outputs": [],
   "source": [
    "def denue_cleaner(df, agno):\n",
    "    df_op=df.copy(deep=True)\n",
    "    # Variable contador\n",
    "    df_op[agno]=1\n",
    "    # Únicamente para el dataset denue-2015 \n",
    "    if agno == '2015':\n",
    "        # Selección de columnas\n",
    "        df_op=df_op[['Código de la clase de actividad SCIAN','Clave municipio', agno]]\n",
    "        # Formato de nombre\n",
    "        df_op.rename(columns={'Código de la clase de actividad SCIAN':'COD_ACT',\n",
    "            'Clave municipio':'ID'}, inplace=True)\n",
    "    else:\n",
    "        # Selección de columnas\n",
    "        df_op=df_op[['codigo_act','cve_mun', agno]]\n",
    "        # Formato de nombre\n",
    "        df_op.rename(columns={'codigo_act':'COD_ACT',\n",
    "            'cve_mun':'ID'}, inplace=True)\n",
    "    # Codificación de las unidades por sector económico usando regex\n",
    "    df_op['COD_ACT']=df_op['COD_ACT'].astype(str).str.replace('^11....','UE_AGRO',regex=True)\n",
    "    df_op['COD_ACT']=df_op['COD_ACT'].astype(str).str.replace('^21....','UE_MIN',regex=True)\n",
    "    df_op['COD_ACT']=df_op['COD_ACT'].astype(str).str.replace('^22....','UE_ENE',regex=True)\n",
    "    df_op['COD_ACT']=df_op['COD_ACT'].astype(str).str.replace('^23....','UE_CON',regex=True)\n",
    "    df_op['COD_ACT']=df_op['COD_ACT'].astype(str).str.replace('^3[1-3]....','UE_MAN',regex=True)\n",
    "    df_op['COD_ACT']=df_op['COD_ACT'].astype(str).str.replace('^43....','UE_CMA',regex=True)\n",
    "    df_op['COD_ACT']=df_op['COD_ACT'].astype(str).str.replace('^46....','UE_CME',regex=True)\n",
    "    df_op['COD_ACT']=df_op['COD_ACT'].astype(str).str.replace('^4[8-9]....','UE_TRA',regex=True)\n",
    "    df_op['COD_ACT']=df_op['COD_ACT'].astype(str).str.replace('^51....','UE_MM',regex=True)\n",
    "    df_op['COD_ACT']=df_op['COD_ACT'].astype(str).str.replace('^52....','UE_BAN',regex=True)\n",
    "    df_op['COD_ACT']=df_op['COD_ACT'].astype(str).str.replace('^53....','UE_INM',regex=True)\n",
    "    df_op['COD_ACT']=df_op['COD_ACT'].astype(str).str.replace('^54....','UE_PCT',regex=True)\n",
    "    df_op['COD_ACT']=df_op['COD_ACT'].astype(str).str.replace('^55....','UE_COR',regex=True)\n",
    "    df_op['COD_ACT']=df_op['COD_ACT'].astype(str).str.replace('^56....','UE_MRR',regex=True)\n",
    "    df_op['COD_ACT']=df_op['COD_ACT'].astype(str).str.replace('^61....','UE_EDU',regex=True)\n",
    "    df_op['COD_ACT']=df_op['COD_ACT'].astype(str).str.replace('^62....','UE_SAL',regex=True)\n",
    "    df_op['COD_ACT']=df_op['COD_ACT'].astype(str).str.replace('^71....','UE_REC',regex=True)\n",
    "    df_op['COD_ACT']=df_op['COD_ACT'].astype(str).str.replace('^72....','UE_ATA',regex=True)\n",
    "    df_op['COD_ACT']=df_op['COD_ACT'].astype(str).str.replace('^81....','UE_OSE',regex=True)\n",
    "    df_op['COD_ACT']=df_op['COD_ACT'].astype(str).str.replace('^93....','UE_GUB',regex=True)\n",
    "    # Agrupación por sector económico\n",
    "    df_op=df_op.groupby(by=['ID','COD_ACT']).sum().rename_axis(columns = None).reset_index()\n",
    "    # Pivot de los sectores a variables\n",
    "    df_op=df_op.pivot(index='ID',columns='COD_ACT',values=agno).rename_axis(columns = None).reset_index()\n",
    "    # Reemplazo de NaN generados\n",
    "    df_op.fillna(value=0,inplace=True)\n",
    "    # Variables numéricas a int64 \n",
    "    df_op.iloc[:,-20:]=df_op.iloc[:,-20:].astype('int64')\n",
    "    # Variable identidicador de año en formato datetime\n",
    "    df_op['FECHA']='31-12-'+agno\n",
    "    df_op['FECHA']=pd.to_datetime(df_op['FECHA'], dayfirst=True)\n",
    "    # Formato de ID\n",
    "    df_op['ID']=df_op['ID']+26000\n",
    "    df_op['ID']=df_op['ID'].astype(str)\n",
    "    return df_op"
   ]
  },
  {
   "cell_type": "code",
   "execution_count": 10,
   "metadata": {},
   "outputs": [],
   "source": [
    "denue15_df=denue_cleaner(raw_denue15_df, '2015')\n",
    "denue16_df=denue_cleaner(raw_denue16_df, '2016')\n",
    "denue17_df=denue_cleaner(raw_denue17_df, '2017')\n",
    "denue18_df=denue_cleaner(raw_denue18_df, '2018')\n",
    "denue19_df=denue_cleaner(raw_denue19_df, '2019')\n",
    "denue20_df=denue_cleaner(raw_denue20_df, '2020')"
   ]
  },
  {
   "cell_type": "markdown",
   "metadata": {},
   "source": [
    "## Datos de incidencia delictiva"
   ]
  },
  {
   "cell_type": "code",
   "execution_count": 11,
   "metadata": {},
   "outputs": [],
   "source": [
    "def delitos_cleaner(df,agno):\n",
    "    # Variables para renombrar las columnas de los meses\n",
    "    ene, feb, mar=f'31-01-{agno}', f'28-02-{agno}', f'31-03-{agno}'\n",
    "    abr, may, jun=f'30-04-{agno}', f'31-05-{agno}', f'30-06-{agno}'\n",
    "    jul, ago, sep=f'31-07-{agno}', f'31-08-{agno}', f'30-09-{agno}'\n",
    "    oct, nov, dic=f'31-10-{agno}', f'30-11-{agno}', f'31-12-{agno}'\n",
    "\n",
    "    df_op=df.copy(deep=True)\n",
    "    # Filtrado de resgistros\n",
    "    df_op=df_op[df_op['Entidad']=='Sonora']\n",
    "    df_op=df_op[df_op['Municipio']!='No Especificado']\n",
    "    df_op=df_op[df_op['Municipio']!='Otros Municipios']\n",
    "    # Formato de nombre\n",
    "    df_op.rename(columns={'Cve. Municipio':'ID', 'Bien jurídico afectado':'DELITO',\n",
    "        'Enero':ene, 'Febrero':feb, 'Marzo':mar,\n",
    "        'Abril':abr, 'Mayo':may, 'Junio':jun,\n",
    "        'Julio':jul, 'Agosto':ago, 'Septiembre':sep,\n",
    "        'Octubre':oct, 'Noviembre':nov, 'Diciembre':dic}, inplace=True)\n",
    "    # Selección de columnas\n",
    "    df_op=df_op[['ID', 'DELITO', ene, feb, mar, abr, may,\n",
    "        jun, jul, ago, sep, oct, nov, dic]]\n",
    "    # Agrupación por ID y clasificación de delito\n",
    "    df_op=df_op.groupby(by=['ID','DELITO']).sum().rename_axis(columns = None).reset_index()\n",
    "    # Columnas de meses a variables tipo datetime\n",
    "    df_op=df_op.melt(id_vars=['ID','DELITO'], var_name='FECHA')\n",
    "    df_op['FECHA']=pd.to_datetime(df_op['FECHA'], dayfirst=True)\n",
    "    # Pivot de los delitos a variables\n",
    "    df_op=df_op.pivot(index=['ID','FECHA'], columns='DELITO', values='value').rename_axis(columns = None).reset_index()\n",
    "    # Formato de nombres de delitos según su clave\n",
    "    df_op.rename(columns=del_dict,inplace=True)\n",
    "    # Formato de ID\n",
    "    df_op['ID']=df_op['ID'].astype(str)\n",
    "    return df_op"
   ]
  },
  {
   "cell_type": "code",
   "execution_count": 12,
   "metadata": {},
   "outputs": [],
   "source": [
    "delitos15_df=delitos_cleaner(raw_delitos15_df,'2015')\n",
    "delitos16_df=delitos_cleaner(raw_delitos16_df,'2016')\n",
    "delitos17_df=delitos_cleaner(raw_delitos17_df,'2017')\n",
    "delitos18_df=delitos_cleaner(raw_delitos18_df,'2018')\n",
    "delitos19_df=delitos_cleaner(raw_delitos19_df,'2019')\n",
    "delitos20_df=delitos_cleaner(raw_delitos20_df,'2020')"
   ]
  },
  {
   "cell_type": "markdown",
   "metadata": {},
   "source": [
    "## Combinación de datasets"
   ]
  },
  {
   "cell_type": "code",
   "execution_count": 13,
   "metadata": {},
   "outputs": [],
   "source": [
    "denue_df=pd.concat([denue15_df, denue16_df, denue17_df,\n",
    "    denue18_df, denue19_df, denue20_df])\n",
    "delitos_df=pd.concat([delitos15_df, delitos16_df, delitos17_df,\n",
    "    delitos18_df, delitos19_df, delitos20_df])"
   ]
  },
  {
   "cell_type": "markdown",
   "metadata": {},
   "source": [
    "## Exportación a parquet"
   ]
  },
  {
   "cell_type": "code",
   "execution_count": 25,
   "metadata": {},
   "outputs": [],
   "source": [
    "shapes_gdf.to_parquet('tidy_data/son_shapes.parquet',index=False)\n",
    "pobl_df.to_parquet('tidy_data/son_pobl.parquet',index=False)\n",
    "denue_df.to_parquet('tidy_data/son_ue.parquet',index=False)\n",
    "delitos_df.to_parquet('tidy_data/son_del.parquet',index=False)"
   ]
  }
 ],
 "metadata": {
  "kernelspec": {
   "display_name": "Python 3.10.8 ('dash_env')",
   "language": "python",
   "name": "python3"
  },
  "language_info": {
   "codemirror_mode": {
    "name": "ipython",
    "version": 3
   },
   "file_extension": ".py",
   "mimetype": "text/x-python",
   "name": "python",
   "nbconvert_exporter": "python",
   "pygments_lexer": "ipython3",
   "version": "3.10.8 | packaged by conda-forge | (main, Nov 24 2022, 14:07:00) [MSC v.1916 64 bit (AMD64)]"
  },
  "orig_nbformat": 4,
  "vscode": {
   "interpreter": {
    "hash": "ee73e50d1cb48ab0e0f44204611125409ca90d1dcccf490985a3dc77e658e3e2"
   }
  }
 },
 "nbformat": 4,
 "nbformat_minor": 2
}
