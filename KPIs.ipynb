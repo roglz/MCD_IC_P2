{
 "cells": [
  {
   "cell_type": "markdown",
   "metadata": {},
   "source": [
    "# Key Performance Indicators\n",
    "\n",
    "## Meta estratégica:\n",
    "\n",
    "### KPI 1\n",
    "Análisis de los datos totales de delitos correspondientes del 2015 al 2020 en los municipios de Sonora.\n",
    "\n",
    "### KPI 2\n",
    "Análisis de los datos totales de unidades económicas correspondientes del 2015 al 2020 en los municipios de Sonora.\n",
    "\n",
    "### KPI 3\n",
    "Análisis de los datos de unidades económicas y delitos correspondientes del 2015 al 2020 en los municipios de Sonora.\n",
    "\n",
    "## Audencia:\n",
    "Población con o sin conocimiento en interpretación de gráficos.\n",
    "\n",
    "## Preguntas clave de desempeño:\n",
    "### KPI 1\n",
    "* ¿Es claro a qué hace referencia cada unidad económica?\n",
    "* ¿Son distinguibles las unidades económicas de cada municipio y de todo el estado?\n",
    "* ¿Es clara la evolución por año de las unidades económicas para cada municipio y de todo el estado?\n",
    "\n",
    "### KPI 2\n",
    "* ¿Es claro a qué hace referencia cada indicador de delito?\n",
    "* ¿Son distinguibles los delitos de cada municipio y de todo el estado?\n",
    "* ¿Es clara la evolución por año de los delitos para cada municipio y de todo el estado?\n",
    "\n",
    "### KPI 3\n",
    "* ¿Es considerado el número de habitantes en comparación a los indicadores?\n",
    "* ¿Es entendible la relación entre unidades económicas y delitos delitos de cada municipio y de todo el estado?\n",
    "* ¿Es clara la evolución por año de la relación entre unidades económicas y delitos para cada municipio y de todo el estado?\n",
    "\n",
    "\n",
    "## Método de recoleción:\n",
    "### KPI 1\n",
    "Directorio Estadístico Nacional de Unidades Económicas.\n",
    "### KPI 2\n",
    "Base de datos del Secretariado Ejecutivo del Sistema Nacional de Seguridad Pública\n",
    "\n",
    "## Criterio de aceptación:\n",
    "* Los datos son facilmente interpretados.\n",
    "* Los municipios pueden ser identificados.\n",
    "* Existe un comparador entre año por los datos."
   ]
  }
 ],
 "metadata": {
  "kernelspec": {
   "display_name": "Python 3.9.13 ('map_env')",
   "language": "python",
   "name": "python3"
  },
  "language_info": {
   "name": "python",
   "version": "3.9.13"
  },
  "orig_nbformat": 4,
  "vscode": {
   "interpreter": {
    "hash": "a0a872a3d69a99f52d0dcd55239b16fa500270210150a00a0b743ee05fb7396d"
   }
  }
 },
 "nbformat": 4,
 "nbformat_minor": 2
}
