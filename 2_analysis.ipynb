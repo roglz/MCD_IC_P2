{
 "cells": [
  {
   "cell_type": "code",
   "execution_count": 1,
   "metadata": {},
   "outputs": [],
   "source": [
    "import pandas as pd\n",
    "from pandas_profiling import ProfileReport"
   ]
  },
  {
   "cell_type": "code",
   "execution_count": 2,
   "metadata": {},
   "outputs": [],
   "source": [
    "crimen_dframe=pd.read_parquet('tidy_datasets/crimen_dframe.parquet')\n",
    "denue_dframe=pd.read_parquet('tidy_datasets/denue_dframe.parquet')"
   ]
  },
  {
   "cell_type": "code",
   "execution_count": 6,
   "metadata": {},
   "outputs": [
    {
     "name": "stdout",
     "output_type": "stream",
     "text": [
      "CVE_MUN                    0\n",
      "Aborto_2015                0\n",
      "Aborto_2016                0\n",
      "Aborto_2017                0\n",
      "Aborto_2018                0\n",
      "                          ..\n",
      "Violencia familiar_2017    0\n",
      "Violencia familiar_2018    0\n",
      "Violencia familiar_2019    0\n",
      "Violencia familiar_2020    0\n",
      "Violencia familiar_2021    0\n",
      "Length: 281, dtype: int64\n"
     ]
    }
   ],
   "source": [
    "crimen_dframe.isna().sum()"
   ]
  },
  {
   "cell_type": "code",
   "execution_count": 3,
   "metadata": {},
   "outputs": [
    {
     "data": {
      "application/vnd.jupyter.widget-view+json": {
       "model_id": "18defe3e1ea446669d6f6acedc1734f1",
       "version_major": 2,
       "version_minor": 0
      },
      "text/plain": [
       "Summarize dataset:   0%|          | 0/5 [00:00<?, ?it/s]"
      ]
     },
     "metadata": {},
     "output_type": "display_data"
    },
    {
     "name": "stderr",
     "output_type": "stream",
     "text": [
      "c:\\Users\\rogzv\\miniconda3\\envs\\map_env\\lib\\site-packages\\multimethod\\__init__.py:184: PerformanceWarning: DataFrame is highly fragmented.  This is usually the result of calling `frame.insert` many times, which has poor performance.  Consider joining all columns at once using pd.concat(axis=1) instead. To get a de-fragmented frame, use `newframe = frame.copy()`\n",
      "  return self[tuple(map(self.get_type, args))](*args, **kwargs)\n",
      "c:\\Users\\rogzv\\miniconda3\\envs\\map_env\\lib\\site-packages\\multimethod\\__init__.py:184: PerformanceWarning: DataFrame is highly fragmented.  This is usually the result of calling `frame.insert` many times, which has poor performance.  Consider joining all columns at once using pd.concat(axis=1) instead. To get a de-fragmented frame, use `newframe = frame.copy()`\n",
      "  return self[tuple(map(self.get_type, args))](*args, **kwargs)\n",
      "c:\\Users\\rogzv\\miniconda3\\envs\\map_env\\lib\\site-packages\\multimethod\\__init__.py:184: PerformanceWarning: DataFrame is highly fragmented.  This is usually the result of calling `frame.insert` many times, which has poor performance.  Consider joining all columns at once using pd.concat(axis=1) instead. To get a de-fragmented frame, use `newframe = frame.copy()`\n",
      "  return self[tuple(map(self.get_type, args))](*args, **kwargs)\n",
      "c:\\Users\\rogzv\\miniconda3\\envs\\map_env\\lib\\site-packages\\multimethod\\__init__.py:184: PerformanceWarning: DataFrame is highly fragmented.  This is usually the result of calling `frame.insert` many times, which has poor performance.  Consider joining all columns at once using pd.concat(axis=1) instead. To get a de-fragmented frame, use `newframe = frame.copy()`\n",
      "  return self[tuple(map(self.get_type, args))](*args, **kwargs)\n",
      "c:\\Users\\rogzv\\miniconda3\\envs\\map_env\\lib\\site-packages\\multimethod\\__init__.py:184: PerformanceWarning: DataFrame is highly fragmented.  This is usually the result of calling `frame.insert` many times, which has poor performance.  Consider joining all columns at once using pd.concat(axis=1) instead. To get a de-fragmented frame, use `newframe = frame.copy()`\n",
      "  return self[tuple(map(self.get_type, args))](*args, **kwargs)\n",
      "c:\\Users\\rogzv\\miniconda3\\envs\\map_env\\lib\\site-packages\\multimethod\\__init__.py:184: PerformanceWarning: DataFrame is highly fragmented.  This is usually the result of calling `frame.insert` many times, which has poor performance.  Consider joining all columns at once using pd.concat(axis=1) instead. To get a de-fragmented frame, use `newframe = frame.copy()`\n",
      "  return self[tuple(map(self.get_type, args))](*args, **kwargs)\n",
      "c:\\Users\\rogzv\\miniconda3\\envs\\map_env\\lib\\site-packages\\multimethod\\__init__.py:184: PerformanceWarning: DataFrame is highly fragmented.  This is usually the result of calling `frame.insert` many times, which has poor performance.  Consider joining all columns at once using pd.concat(axis=1) instead. To get a de-fragmented frame, use `newframe = frame.copy()`\n",
      "  return self[tuple(map(self.get_type, args))](*args, **kwargs)\n",
      "c:\\Users\\rogzv\\miniconda3\\envs\\map_env\\lib\\site-packages\\multimethod\\__init__.py:184: PerformanceWarning: DataFrame is highly fragmented.  This is usually the result of calling `frame.insert` many times, which has poor performance.  Consider joining all columns at once using pd.concat(axis=1) instead. To get a de-fragmented frame, use `newframe = frame.copy()`\n",
      "  return self[tuple(map(self.get_type, args))](*args, **kwargs)\n",
      "c:\\Users\\rogzv\\miniconda3\\envs\\map_env\\lib\\site-packages\\multimethod\\__init__.py:184: PerformanceWarning: DataFrame is highly fragmented.  This is usually the result of calling `frame.insert` many times, which has poor performance.  Consider joining all columns at once using pd.concat(axis=1) instead. To get a de-fragmented frame, use `newframe = frame.copy()`\n",
      "  return self[tuple(map(self.get_type, args))](*args, **kwargs)\n",
      "c:\\Users\\rogzv\\miniconda3\\envs\\map_env\\lib\\site-packages\\multimethod\\__init__.py:184: PerformanceWarning: DataFrame is highly fragmented.  This is usually the result of calling `frame.insert` many times, which has poor performance.  Consider joining all columns at once using pd.concat(axis=1) instead. To get a de-fragmented frame, use `newframe = frame.copy()`\n",
      "  return self[tuple(map(self.get_type, args))](*args, **kwargs)\n",
      "c:\\Users\\rogzv\\miniconda3\\envs\\map_env\\lib\\site-packages\\multimethod\\__init__.py:184: PerformanceWarning: DataFrame is highly fragmented.  This is usually the result of calling `frame.insert` many times, which has poor performance.  Consider joining all columns at once using pd.concat(axis=1) instead. To get a de-fragmented frame, use `newframe = frame.copy()`\n",
      "  return self[tuple(map(self.get_type, args))](*args, **kwargs)\n",
      "c:\\Users\\rogzv\\miniconda3\\envs\\map_env\\lib\\site-packages\\multimethod\\__init__.py:184: PerformanceWarning: DataFrame is highly fragmented.  This is usually the result of calling `frame.insert` many times, which has poor performance.  Consider joining all columns at once using pd.concat(axis=1) instead. To get a de-fragmented frame, use `newframe = frame.copy()`\n",
      "  return self[tuple(map(self.get_type, args))](*args, **kwargs)\n",
      "c:\\Users\\rogzv\\miniconda3\\envs\\map_env\\lib\\site-packages\\multimethod\\__init__.py:184: PerformanceWarning: DataFrame is highly fragmented.  This is usually the result of calling `frame.insert` many times, which has poor performance.  Consider joining all columns at once using pd.concat(axis=1) instead. To get a de-fragmented frame, use `newframe = frame.copy()`\n",
      "  return self[tuple(map(self.get_type, args))](*args, **kwargs)\n",
      "c:\\Users\\rogzv\\miniconda3\\envs\\map_env\\lib\\site-packages\\multimethod\\__init__.py:184: PerformanceWarning: DataFrame is highly fragmented.  This is usually the result of calling `frame.insert` many times, which has poor performance.  Consider joining all columns at once using pd.concat(axis=1) instead. To get a de-fragmented frame, use `newframe = frame.copy()`\n",
      "  return self[tuple(map(self.get_type, args))](*args, **kwargs)\n",
      "c:\\Users\\rogzv\\miniconda3\\envs\\map_env\\lib\\site-packages\\multimethod\\__init__.py:184: PerformanceWarning: DataFrame is highly fragmented.  This is usually the result of calling `frame.insert` many times, which has poor performance.  Consider joining all columns at once using pd.concat(axis=1) instead. To get a de-fragmented frame, use `newframe = frame.copy()`\n",
      "  return self[tuple(map(self.get_type, args))](*args, **kwargs)\n",
      "c:\\Users\\rogzv\\miniconda3\\envs\\map_env\\lib\\site-packages\\multimethod\\__init__.py:184: PerformanceWarning: DataFrame is highly fragmented.  This is usually the result of calling `frame.insert` many times, which has poor performance.  Consider joining all columns at once using pd.concat(axis=1) instead. To get a de-fragmented frame, use `newframe = frame.copy()`\n",
      "  return self[tuple(map(self.get_type, args))](*args, **kwargs)\n",
      "c:\\Users\\rogzv\\miniconda3\\envs\\map_env\\lib\\site-packages\\multimethod\\__init__.py:184: PerformanceWarning: DataFrame is highly fragmented.  This is usually the result of calling `frame.insert` many times, which has poor performance.  Consider joining all columns at once using pd.concat(axis=1) instead. To get a de-fragmented frame, use `newframe = frame.copy()`\n",
      "  return self[tuple(map(self.get_type, args))](*args, **kwargs)\n",
      "c:\\Users\\rogzv\\miniconda3\\envs\\map_env\\lib\\site-packages\\multimethod\\__init__.py:184: PerformanceWarning: DataFrame is highly fragmented.  This is usually the result of calling `frame.insert` many times, which has poor performance.  Consider joining all columns at once using pd.concat(axis=1) instead. To get a de-fragmented frame, use `newframe = frame.copy()`\n",
      "  return self[tuple(map(self.get_type, args))](*args, **kwargs)\n",
      "c:\\Users\\rogzv\\miniconda3\\envs\\map_env\\lib\\site-packages\\multimethod\\__init__.py:184: PerformanceWarning: DataFrame is highly fragmented.  This is usually the result of calling `frame.insert` many times, which has poor performance.  Consider joining all columns at once using pd.concat(axis=1) instead. To get a de-fragmented frame, use `newframe = frame.copy()`\n",
      "  return self[tuple(map(self.get_type, args))](*args, **kwargs)\n",
      "c:\\Users\\rogzv\\miniconda3\\envs\\map_env\\lib\\site-packages\\multimethod\\__init__.py:184: PerformanceWarning: DataFrame is highly fragmented.  This is usually the result of calling `frame.insert` many times, which has poor performance.  Consider joining all columns at once using pd.concat(axis=1) instead. To get a de-fragmented frame, use `newframe = frame.copy()`\n",
      "  return self[tuple(map(self.get_type, args))](*args, **kwargs)\n",
      "c:\\Users\\rogzv\\miniconda3\\envs\\map_env\\lib\\site-packages\\multimethod\\__init__.py:184: PerformanceWarning: DataFrame is highly fragmented.  This is usually the result of calling `frame.insert` many times, which has poor performance.  Consider joining all columns at once using pd.concat(axis=1) instead. To get a de-fragmented frame, use `newframe = frame.copy()`\n",
      "  return self[tuple(map(self.get_type, args))](*args, **kwargs)\n",
      "c:\\Users\\rogzv\\miniconda3\\envs\\map_env\\lib\\site-packages\\multimethod\\__init__.py:184: PerformanceWarning: DataFrame is highly fragmented.  This is usually the result of calling `frame.insert` many times, which has poor performance.  Consider joining all columns at once using pd.concat(axis=1) instead. To get a de-fragmented frame, use `newframe = frame.copy()`\n",
      "  return self[tuple(map(self.get_type, args))](*args, **kwargs)\n",
      "c:\\Users\\rogzv\\miniconda3\\envs\\map_env\\lib\\site-packages\\multimethod\\__init__.py:184: PerformanceWarning: DataFrame is highly fragmented.  This is usually the result of calling `frame.insert` many times, which has poor performance.  Consider joining all columns at once using pd.concat(axis=1) instead. To get a de-fragmented frame, use `newframe = frame.copy()`\n",
      "  return self[tuple(map(self.get_type, args))](*args, **kwargs)\n",
      "c:\\Users\\rogzv\\miniconda3\\envs\\map_env\\lib\\site-packages\\multimethod\\__init__.py:184: PerformanceWarning: DataFrame is highly fragmented.  This is usually the result of calling `frame.insert` many times, which has poor performance.  Consider joining all columns at once using pd.concat(axis=1) instead. To get a de-fragmented frame, use `newframe = frame.copy()`\n",
      "  return self[tuple(map(self.get_type, args))](*args, **kwargs)\n",
      "c:\\Users\\rogzv\\miniconda3\\envs\\map_env\\lib\\site-packages\\multimethod\\__init__.py:184: PerformanceWarning: DataFrame is highly fragmented.  This is usually the result of calling `frame.insert` many times, which has poor performance.  Consider joining all columns at once using pd.concat(axis=1) instead. To get a de-fragmented frame, use `newframe = frame.copy()`\n",
      "  return self[tuple(map(self.get_type, args))](*args, **kwargs)\n",
      "c:\\Users\\rogzv\\miniconda3\\envs\\map_env\\lib\\site-packages\\multimethod\\__init__.py:184: PerformanceWarning: DataFrame is highly fragmented.  This is usually the result of calling `frame.insert` many times, which has poor performance.  Consider joining all columns at once using pd.concat(axis=1) instead. To get a de-fragmented frame, use `newframe = frame.copy()`\n",
      "  return self[tuple(map(self.get_type, args))](*args, **kwargs)\n",
      "c:\\Users\\rogzv\\miniconda3\\envs\\map_env\\lib\\site-packages\\multimethod\\__init__.py:184: PerformanceWarning: DataFrame is highly fragmented.  This is usually the result of calling `frame.insert` many times, which has poor performance.  Consider joining all columns at once using pd.concat(axis=1) instead. To get a de-fragmented frame, use `newframe = frame.copy()`\n",
      "  return self[tuple(map(self.get_type, args))](*args, **kwargs)\n",
      "c:\\Users\\rogzv\\miniconda3\\envs\\map_env\\lib\\site-packages\\multimethod\\__init__.py:184: PerformanceWarning: DataFrame is highly fragmented.  This is usually the result of calling `frame.insert` many times, which has poor performance.  Consider joining all columns at once using pd.concat(axis=1) instead. To get a de-fragmented frame, use `newframe = frame.copy()`\n",
      "  return self[tuple(map(self.get_type, args))](*args, **kwargs)\n",
      "c:\\Users\\rogzv\\miniconda3\\envs\\map_env\\lib\\site-packages\\multimethod\\__init__.py:184: PerformanceWarning: DataFrame is highly fragmented.  This is usually the result of calling `frame.insert` many times, which has poor performance.  Consider joining all columns at once using pd.concat(axis=1) instead. To get a de-fragmented frame, use `newframe = frame.copy()`\n",
      "  return self[tuple(map(self.get_type, args))](*args, **kwargs)\n",
      "c:\\Users\\rogzv\\miniconda3\\envs\\map_env\\lib\\site-packages\\multimethod\\__init__.py:184: PerformanceWarning: DataFrame is highly fragmented.  This is usually the result of calling `frame.insert` many times, which has poor performance.  Consider joining all columns at once using pd.concat(axis=1) instead. To get a de-fragmented frame, use `newframe = frame.copy()`\n",
      "  return self[tuple(map(self.get_type, args))](*args, **kwargs)\n",
      "c:\\Users\\rogzv\\miniconda3\\envs\\map_env\\lib\\site-packages\\multimethod\\__init__.py:184: PerformanceWarning: DataFrame is highly fragmented.  This is usually the result of calling `frame.insert` many times, which has poor performance.  Consider joining all columns at once using pd.concat(axis=1) instead. To get a de-fragmented frame, use `newframe = frame.copy()`\n",
      "  return self[tuple(map(self.get_type, args))](*args, **kwargs)\n",
      "c:\\Users\\rogzv\\miniconda3\\envs\\map_env\\lib\\site-packages\\multimethod\\__init__.py:184: PerformanceWarning: DataFrame is highly fragmented.  This is usually the result of calling `frame.insert` many times, which has poor performance.  Consider joining all columns at once using pd.concat(axis=1) instead. To get a de-fragmented frame, use `newframe = frame.copy()`\n",
      "  return self[tuple(map(self.get_type, args))](*args, **kwargs)\n",
      "c:\\Users\\rogzv\\miniconda3\\envs\\map_env\\lib\\site-packages\\multimethod\\__init__.py:184: PerformanceWarning: DataFrame is highly fragmented.  This is usually the result of calling `frame.insert` many times, which has poor performance.  Consider joining all columns at once using pd.concat(axis=1) instead. To get a de-fragmented frame, use `newframe = frame.copy()`\n",
      "  return self[tuple(map(self.get_type, args))](*args, **kwargs)\n",
      "c:\\Users\\rogzv\\miniconda3\\envs\\map_env\\lib\\site-packages\\multimethod\\__init__.py:184: PerformanceWarning: DataFrame is highly fragmented.  This is usually the result of calling `frame.insert` many times, which has poor performance.  Consider joining all columns at once using pd.concat(axis=1) instead. To get a de-fragmented frame, use `newframe = frame.copy()`\n",
      "  return self[tuple(map(self.get_type, args))](*args, **kwargs)\n",
      "c:\\Users\\rogzv\\miniconda3\\envs\\map_env\\lib\\site-packages\\multimethod\\__init__.py:184: PerformanceWarning: DataFrame is highly fragmented.  This is usually the result of calling `frame.insert` many times, which has poor performance.  Consider joining all columns at once using pd.concat(axis=1) instead. To get a de-fragmented frame, use `newframe = frame.copy()`\n",
      "  return self[tuple(map(self.get_type, args))](*args, **kwargs)\n",
      "c:\\Users\\rogzv\\miniconda3\\envs\\map_env\\lib\\site-packages\\multimethod\\__init__.py:184: PerformanceWarning: DataFrame is highly fragmented.  This is usually the result of calling `frame.insert` many times, which has poor performance.  Consider joining all columns at once using pd.concat(axis=1) instead. To get a de-fragmented frame, use `newframe = frame.copy()`\n",
      "  return self[tuple(map(self.get_type, args))](*args, **kwargs)\n",
      "c:\\Users\\rogzv\\miniconda3\\envs\\map_env\\lib\\site-packages\\multimethod\\__init__.py:184: PerformanceWarning: DataFrame is highly fragmented.  This is usually the result of calling `frame.insert` many times, which has poor performance.  Consider joining all columns at once using pd.concat(axis=1) instead. To get a de-fragmented frame, use `newframe = frame.copy()`\n",
      "  return self[tuple(map(self.get_type, args))](*args, **kwargs)\n",
      "c:\\Users\\rogzv\\miniconda3\\envs\\map_env\\lib\\site-packages\\multimethod\\__init__.py:184: PerformanceWarning: DataFrame is highly fragmented.  This is usually the result of calling `frame.insert` many times, which has poor performance.  Consider joining all columns at once using pd.concat(axis=1) instead. To get a de-fragmented frame, use `newframe = frame.copy()`\n",
      "  return self[tuple(map(self.get_type, args))](*args, **kwargs)\n",
      "c:\\Users\\rogzv\\miniconda3\\envs\\map_env\\lib\\site-packages\\multimethod\\__init__.py:184: PerformanceWarning: DataFrame is highly fragmented.  This is usually the result of calling `frame.insert` many times, which has poor performance.  Consider joining all columns at once using pd.concat(axis=1) instead. To get a de-fragmented frame, use `newframe = frame.copy()`\n",
      "  return self[tuple(map(self.get_type, args))](*args, **kwargs)\n",
      "c:\\Users\\rogzv\\miniconda3\\envs\\map_env\\lib\\site-packages\\multimethod\\__init__.py:184: PerformanceWarning: DataFrame is highly fragmented.  This is usually the result of calling `frame.insert` many times, which has poor performance.  Consider joining all columns at once using pd.concat(axis=1) instead. To get a de-fragmented frame, use `newframe = frame.copy()`\n",
      "  return self[tuple(map(self.get_type, args))](*args, **kwargs)\n",
      "c:\\Users\\rogzv\\miniconda3\\envs\\map_env\\lib\\site-packages\\multimethod\\__init__.py:184: PerformanceWarning: DataFrame is highly fragmented.  This is usually the result of calling `frame.insert` many times, which has poor performance.  Consider joining all columns at once using pd.concat(axis=1) instead. To get a de-fragmented frame, use `newframe = frame.copy()`\n",
      "  return self[tuple(map(self.get_type, args))](*args, **kwargs)\n",
      "c:\\Users\\rogzv\\miniconda3\\envs\\map_env\\lib\\site-packages\\multimethod\\__init__.py:184: PerformanceWarning: DataFrame is highly fragmented.  This is usually the result of calling `frame.insert` many times, which has poor performance.  Consider joining all columns at once using pd.concat(axis=1) instead. To get a de-fragmented frame, use `newframe = frame.copy()`\n",
      "  return self[tuple(map(self.get_type, args))](*args, **kwargs)\n"
     ]
    },
    {
     "data": {
      "application/vnd.jupyter.widget-view+json": {
       "model_id": "7454d7b3bd434ce9a50df5ba7a77c024",
       "version_major": 2,
       "version_minor": 0
      },
      "text/plain": [
       "Generate report structure:   0%|          | 0/1 [00:00<?, ?it/s]"
      ]
     },
     "metadata": {},
     "output_type": "display_data"
    },
    {
     "data": {
      "application/vnd.jupyter.widget-view+json": {
       "model_id": "f6ccea0ba1b142708c40de2a8200197a",
       "version_major": 2,
       "version_minor": 0
      },
      "text/plain": [
       "Render HTML:   0%|          | 0/1 [00:00<?, ?it/s]"
      ]
     },
     "metadata": {},
     "output_type": "display_data"
    },
    {
     "data": {
      "application/vnd.jupyter.widget-view+json": {
       "model_id": "6c606942a044481cad96028166cf4908",
       "version_major": 2,
       "version_minor": 0
      },
      "text/plain": [
       "Export report to file:   0%|          | 0/1 [00:00<?, ?it/s]"
      ]
     },
     "metadata": {},
     "output_type": "display_data"
    }
   ],
   "source": [
    "denue_eda = ProfileReport(\n",
    "    denue_dframe,\n",
    "    explorative=True,\n",
    "    title='Reporte de denue_dframe.parquet',\n",
    "    html={'style':{'full_width':True}}\n",
    ") \n",
    "denue_eda.to_file(\"denue_eda.html\")"
   ]
  }
 ],
 "metadata": {
  "kernelspec": {
   "display_name": "Python 3.9.13 ('map_env')",
   "language": "python",
   "name": "python3"
  },
  "language_info": {
   "codemirror_mode": {
    "name": "ipython",
    "version": 3
   },
   "file_extension": ".py",
   "mimetype": "text/x-python",
   "name": "python",
   "nbconvert_exporter": "python",
   "pygments_lexer": "ipython3",
   "version": "3.9.13"
  },
  "orig_nbformat": 4,
  "vscode": {
   "interpreter": {
    "hash": "a0a872a3d69a99f52d0dcd55239b16fa500270210150a00a0b743ee05fb7396d"
   }
  }
 },
 "nbformat": 4,
 "nbformat_minor": 2
}
